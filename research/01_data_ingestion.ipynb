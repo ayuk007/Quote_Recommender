{
 "cells": [
  {
   "cell_type": "code",
   "execution_count": 1,
   "metadata": {},
   "outputs": [
    {
     "name": "stdout",
     "output_type": "stream",
     "text": [
      "/d/Projects/Quote_Recommender\n"
     ]
    }
   ],
   "source": [
    "import os\n",
    "os.chdir(\"../\")\n",
    "!pwd"
   ]
  },
  {
   "cell_type": "code",
   "execution_count": 2,
   "metadata": {},
   "outputs": [],
   "source": [
    "from dataclasses import dataclass\n",
    "from pathlib import Path\n",
    "\n",
    "@dataclass(frozen = True)\n",
    "class DataIngestionConfig:\n",
    "    root_dir: Path\n",
    "    save_path: Path\n",
    "    tags: list\n",
    "    num_pages: int"
   ]
  },
  {
   "cell_type": "code",
   "execution_count": 3,
   "metadata": {},
   "outputs": [],
   "source": [
    "from src.Quote_Recommender.constants import *\n",
    "from src.Quote_Recommender.utils.common import read_yaml, create_directories"
   ]
  },
  {
   "cell_type": "code",
   "execution_count": 10,
   "metadata": {},
   "outputs": [],
   "source": [
    "class ConfigManager:\n",
    "    def __init__(\n",
    "            self,\n",
    "            config_filepath = CONFIG_FILE_PATH,\n",
    "            params_filepath = PARAMS_FILE_PATH \n",
    "    ):\n",
    "        self.config = read_yaml(Path(config_filepath))\n",
    "        self.params = read_yaml(Path(params_filepath))\n",
    "\n",
    "        create_directories([self.config.artifacts_root])\n",
    "\n",
    "    def get_data_ingestion_config(self) -> DataIngestionConfig:\n",
    "        config = self.config.data_ingestion\n",
    "        params = self.params.data_ingestion\n",
    "        create_directories([config.root_dir])\n",
    "\n",
    "        data_ingestion_config = DataIngestionConfig(\n",
    "            root_dir = config.root_dir,\n",
    "            save_path = config.save_path,\n",
    "            tags = params.tags,\n",
    "            num_pages = params.num_pages\n",
    "        )\n",
    "    \n",
    "        return data_ingestion_config"
   ]
  },
  {
   "cell_type": "code",
   "execution_count": 5,
   "metadata": {},
   "outputs": [],
   "source": [
    "import os\n",
    "import requests\n",
    "import pandas as pd\n",
    "from collections import OrderedDict\n",
    "from bs4 import BeautifulSoup\n",
    "import random\n",
    "from src.Quote_Recommender.utils.common import get_size\n",
    "from src.Quote_Recommender import logger"
   ]
  },
  {
   "cell_type": "code",
   "execution_count": 13,
   "metadata": {},
   "outputs": [],
   "source": [
    "class DataIngestion:\n",
    "    def __init__(self, config = DataIngestionConfig):\n",
    "        self.config = config\n",
    "\n",
    "    def download_data(self):\n",
    "        if not os.path.exists(self.config.save_path):\n",
    "            quotes = []\n",
    "            author = []\n",
    "            tags_mul = []\n",
    "            tags = self.config.tags\n",
    "\n",
    "            for tag in tags:\n",
    "                ran_pag = list(set([random.randint(1,100) for _ in range(self.config.num_pages)]))\n",
    "                for page in ran_pag:\n",
    "                    url = f\"https://www.goodreads.com/quotes/tag/{tag}?page={page}\"\n",
    "                    page_res = requests.get(url)\n",
    "                    content = BeautifulSoup(page_res.content, 'html.parser')\n",
    "                    quotes_html_page = content.find_all('div',{'class':'quoteDetails'})\n",
    "\n",
    "                    for quote_html in quotes_html_page:\n",
    "                        quotes.append(quote_html.find('div',{'class':'quoteText'}).get_text().strip().split('\\n')[0])\n",
    "                        author.append(quote_html.find('span',{'class':'authorOrTitle'}).get_text().strip())\n",
    "                        if quote_html.find('div',{'class':'greyText smallText left'}) is not None:\n",
    "                            tags_list = [tag.get_text() for tag in quote_html.find('div',{'class':'greyText smallText left'}).find_all('a')]\n",
    "                            tags_ls = list(OrderedDict.fromkeys(tags_list))\n",
    "                            if 'attributed-no-source' in tags_ls:\n",
    "                                tags_ls.remove('attributed-no-source')\n",
    "                        else:\n",
    "                            tags_ls = None\n",
    "                        tags_mul.append(tags_ls)\n",
    "            \n",
    "            data_frame = pd.DataFrame({\n",
    "                \"Quotes\": quotes,\n",
    "                \"Author\": author,\n",
    "                \"Tags\": tags_mul\n",
    "            })\n",
    "\n",
    "            data_frame.to_csv(self.config.save_path)\n",
    "            logger.info(f\"data scraped/collected at {self.config.save_path}\")\n",
    "        \n",
    "        else:\n",
    "            logger.info(f\"file already exists of size: {get_size(Path(self.config.save_path))}\")"
   ]
  },
  {
   "cell_type": "code",
   "execution_count": 14,
   "metadata": {},
   "outputs": [
    {
     "name": "stdout",
     "output_type": "stream",
     "text": [
      "[2023-06-16 12:14:16,928: INFO: common: yaml file: config\\config.yaml loaded successfully]\n",
      "[2023-06-16 12:14:16,932: INFO: common: yaml file: params.yaml loaded successfully]\n",
      "[2023-06-16 12:16:46,246: INFO: 4196187431: data scraped/collected at artifacts/data_ingestion/data.csv]\n"
     ]
    }
   ],
   "source": [
    "try:\n",
    "    config = ConfigManager()\n",
    "    data_ingestion_config = config.get_data_ingestion_config()\n",
    "    data_ingestion = DataIngestion(config = data_ingestion_config)\n",
    "    data_ingestion.download_data()\n",
    "except Exception as e:\n",
    "    raise e"
   ]
  },
  {
   "cell_type": "code",
   "execution_count": null,
   "metadata": {},
   "outputs": [],
   "source": []
  }
 ],
 "metadata": {
  "kernelspec": {
   "display_name": "Python 3",
   "language": "python",
   "name": "python3"
  },
  "language_info": {
   "codemirror_mode": {
    "name": "ipython",
    "version": 3
   },
   "file_extension": ".py",
   "mimetype": "text/x-python",
   "name": "python",
   "nbconvert_exporter": "python",
   "pygments_lexer": "ipython3",
   "version": "3.11.3"
  },
  "orig_nbformat": 4
 },
 "nbformat": 4,
 "nbformat_minor": 2
}
